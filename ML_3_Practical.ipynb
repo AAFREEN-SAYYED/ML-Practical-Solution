{
  "nbformat": 4,
  "nbformat_minor": 0,
  "metadata": {
    "colab": {
      "name": "ML_3_Practical.ipynb",
      "provenance": [],
      "collapsed_sections": [],
      "authorship_tag": "ABX9TyMzwdWwnI2ZWkNLW9gD1rol",
      "include_colab_link": true
    },
    "kernelspec": {
      "name": "python3",
      "display_name": "Python 3"
    }
  },
  "cells": [
    {
      "cell_type": "markdown",
      "metadata": {
        "id": "view-in-github",
        "colab_type": "text"
      },
      "source": [
        "<a href=\"https://colab.research.google.com/github/AAFREEN-SAYYED/ML-Practical-Solution/blob/gh-pages/ML_3_Practical.ipynb\" target=\"_parent\"><img src=\"https://colab.research.google.com/assets/colab-badge.svg\" alt=\"Open In Colab\"/></a>"
      ]
    },
    {
      "cell_type": "code",
      "metadata": {
        "colab": {
          "base_uri": "https://localhost:8080/"
        },
        "id": "iqbYx2xoU5C7",
        "outputId": "8e7787cd-4c40-46d2-f70f-71a55a22cbd8"
      },
      "source": [
        "import pandas as pd\r\n",
        "\r\n",
        "cat_data = [\"cat\", \"dog\", \"bird\"]\r\n",
        "num_data, meta_data = pd.factorize(cat_data)\r\n",
        "print(num_data)\r\n",
        "print(meta_data)"
      ],
      "execution_count": null,
      "outputs": [
        {
          "output_type": "stream",
          "text": [
            "[0 1 2]\n",
            "['cat' 'dog' 'bird']\n"
          ],
          "name": "stdout"
        }
      ]
    },
    {
      "cell_type": "markdown",
      "metadata": {
        "id": "NKGFJn9yWB9u"
      },
      "source": [
        "How to convert categorical data to numerical data in Python:\r\n",
        "\r\n",
        "Categorical data are composed of strings of non-numeric characters, which can be encoded as numerical data. For example [\"cat\", \"dog\", \"bird\"] can be represented as [0, 1, 2].\r\n",
        "\r\n",
        "USE pandas.factorize() TO CONVERT CATEGORICAL DATA TO NUMERICAL DATA\r\n",
        "Call pandas.factorize(values) to return a list of numerical data based on the indices of the categorical data values."
      ]
    }
  ]
}