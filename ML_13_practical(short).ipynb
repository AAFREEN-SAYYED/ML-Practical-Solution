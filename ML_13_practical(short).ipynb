{
  "nbformat": 4,
  "nbformat_minor": 0,
  "metadata": {
    "colab": {
      "name": "ML_13_practical(short).ipynb",
      "provenance": [],
      "collapsed_sections": [],
      "authorship_tag": "ABX9TyMJGOTxR0JwUUvatBg8rBYu",
      "include_colab_link": true
    },
    "kernelspec": {
      "name": "python3",
      "display_name": "Python 3"
    }
  },
  "cells": [
    {
      "cell_type": "markdown",
      "metadata": {
        "id": "view-in-github",
        "colab_type": "text"
      },
      "source": [
        "<a href=\"https://colab.research.google.com/github/AAFREEN-SAYYED/ML-Practical-Solution/blob/gh-pages/ML_13_practical(short).ipynb\" target=\"_parent\"><img src=\"https://colab.research.google.com/assets/colab-badge.svg\" alt=\"Open In Colab\"/></a>"
      ]
    },
    {
      "cell_type": "markdown",
      "metadata": {
        "id": "xoMwl3dERE3k"
      },
      "source": [
        "**K Means Algorithm**"
      ]
    },
    {
      "cell_type": "code",
      "metadata": {
        "colab": {
          "base_uri": "https://localhost:8080/",
          "height": 265
        },
        "id": "jwTPxXW8RCwS",
        "outputId": "fdfe3ea3-10f7-4a7e-f092-d52a1c09ea08"
      },
      "source": [
        "# k-means clustering\r\n",
        "from numpy import unique\r\n",
        "from numpy import where\r\n",
        "from sklearn.datasets import make_classification\r\n",
        "from sklearn.cluster import KMeans\r\n",
        "from matplotlib import pyplot\r\n",
        "# define dataset\r\n",
        "X, _ = make_classification(n_samples=1000, n_features=2, n_informative=2, n_redundant=0, n_clusters_per_class=1, random_state=4)\r\n",
        "# define the model\r\n",
        "model = KMeans(n_clusters=2)\r\n",
        "# fit the model\r\n",
        "model.fit(X)\r\n",
        "# assign a cluster to each example\r\n",
        "yhat = model.predict(X)\r\n",
        "# retrieve unique clusters\r\n",
        "clusters = unique(yhat)\r\n",
        "# create scatter plot for samples from each cluster\r\n",
        "for cluster in clusters:\r\n",
        "\t# get row indexes for samples with this cluster\r\n",
        "\trow_ix = where(yhat == cluster)\r\n",
        "\t# create scatter of these samples\r\n",
        "\tpyplot.scatter(X[row_ix, 0], X[row_ix, 1])\r\n",
        "# show the plot\r\n",
        "pyplot.show()"
      ],
      "execution_count": null,
      "outputs": [
        {
          "output_type": "display_data",
          "data": {
            "image/png": "[encoded data removed]",
            "text/plain": [
              "<Figure size 432x288 with 1 Axes>"
            ]
          },
          "metadata": {
            "tags": [],
            "needs_background": "light"
          }
        }
      ]
    }
  ]
}