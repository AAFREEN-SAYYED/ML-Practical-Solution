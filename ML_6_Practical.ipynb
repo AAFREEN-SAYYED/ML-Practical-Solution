{
  "nbformat": 4,
  "nbformat_minor": 0,
  "metadata": {
    "colab": {
      "name": "ML_6_Practical.ipynb",
      "provenance": [],
      "collapsed_sections": [],
      "authorship_tag": "ABX9TyO9Z1loikv0rC/FS017nziH",
      "include_colab_link": true
    },
    "kernelspec": {
      "name": "python3",
      "display_name": "Python 3"
    }
  },
  "cells": [
    {
      "cell_type": "markdown",
      "metadata": {
        "id": "view-in-github",
        "colab_type": "text"
      },
      "source": [
        "<a href=\"https://colab.research.google.com/github/AAFREEN-SAYYED/ML-Practical-Solution/blob/gh-pages/ML_6_Practical.ipynb\" target=\"_parent\"><img src=\"https://colab.research.google.com/assets/colab-badge.svg\" alt=\"Open In Colab\"/></a>"
      ]
    },
    {
      "cell_type": "markdown",
      "metadata": {
        "id": "BApJlOmFVm3-"
      },
      "source": [
        "# **Polynomial Regression with Python**\r\n",
        "In this sample, we have to use 4 libraries as numpy, pandas, matplotlib and sklearn. Now we have to import libraries and get the data set first:\r\n"
      ]
    },
    {
      "cell_type": "code",
      "metadata": {
        "id": "Zr5P7ymNTcTT"
      },
      "source": [
        "import numpy as np\r\n",
        "import matplotlib.pyplot as plt\r\n",
        "import pandas as pd\r\n",
        "\r\n",
        "# Importing the dataset\r\n",
        "dataset = pd.read_csv('https://s3.us-west-2.amazonaws.com/public.gamelab.fun/dataset/position_salaries.csv')\r\n",
        "\r\n",
        "X = dataset.iloc[:, 1:2].values\r\n",
        "y = dataset.iloc[:, 2].values\r\n"
      ],
      "execution_count": null,
      "outputs": []
    },
    {
      "cell_type": "markdown",
      "metadata": {
        "id": "xkN0BlMRV7n9"
      },
      "source": [
        "**Code explanation:**\r\n",
        "\r\n",
        "dataset: the table contains all values in our csv file\r\n",
        "\r\n",
        "X: the 2nd column which contains Years Experience array\r\n",
        "\r\n",
        "y: the last column which contains Salary array\r\n",
        "\r\n",
        "Let’s split our dataset to get training set and testing set (both X and y values per each set)\r\n"
      ]
    },
    {
      "cell_type": "code",
      "metadata": {
        "id": "JX2J77PiWDGe"
      },
      "source": [
        "# Splitting the dataset into the Training set and Test set\r\n",
        "from sklearn.model_selection import train_test_split \r\n",
        "X_train, X_test, y_train, y_test = train_test_split(X, y, test_size=0.2, random_state=0)\r\n"
      ],
      "execution_count": null,
      "outputs": []
    },
    {
      "cell_type": "markdown",
      "metadata": {
        "id": "mO5NHUspWke1"
      },
      "source": [
        "**Code explanation:**\r\n",
        "\r\n",
        "***test_size=0.2:*** we will split our dataset (10 observations) into 2 parts (training set, test set) and the ratio of test set compare to dataset is 0.2 (2 observations will be put into the test set. You can put it 1/5 to get 20% or 0.2, they are the same. We should not let the test set too big; if it’s too big, we will lack of data to train. Normally, we should pick around 5% to 30%.\r\n",
        "\r\n",
        "**train_size**: if we use the test_size already, the rest of data will automatically be assigned to train_size.\r\n",
        "\r\n",
        "**random_state**:this is the seed for the random number generator. We can put an instance of the RandomState class as well. If we leave it blank or 0, the RandomState instance used by np.random will be used instead.\r\n",
        "\r\n",
        "We already have the train set and test set, now we have to build the Regression Model. Firstly, we will build a Linear Regression model and visualize it (it’s no need to include this step in your practice, we just do this for comparison between Linear and Polynomial only):"
      ]
    },
    {
      "cell_type": "code",
      "metadata": {
        "colab": {
          "base_uri": "https://localhost:8080/",
          "height": 295
        },
        "id": "Kg1J4UZ-W97H",
        "outputId": "dd12866f-d702-40a5-c617-4ad3d925c0a0"
      },
      "source": [
        "# Fitting Linear Regression to the dataset\r\n",
        "from sklearn.linear_model import LinearRegression\r\n",
        "lin_reg = LinearRegression()\r\n",
        "lin_reg.fit(X, y)\r\n",
        "\r\n",
        "# Visualizing the Linear Regression results\r\n",
        "def viz_linear():\r\n",
        "    plt.scatter(X, y, color='red')\r\n",
        "    plt.plot(X, lin_reg.predict(X), color='blue')\r\n",
        "    plt.title('Truth or Bluff (Linear Regression)')\r\n",
        "    plt.xlabel('Position level')\r\n",
        "    plt.ylabel('Salary')\r\n",
        "    plt.show()\r\n",
        "    return\r\n",
        "viz_linear()\r\n"
      ],
      "execution_count": null,
      "outputs": [
        {
          "output_type": "display_data",
          "data": {
            "image/png": "[encoded data removed]",
            "text/plain": [
              "<Figure size 432x288 with 1 Axes>"
            ]
          },
          "metadata": {
            "tags": [],
            "needs_background": "light"
          }
        }
      ]
    },
    {
      "cell_type": "markdown",
      "metadata": {
        "id": "NaEhgfwVXJbJ"
      },
      "source": [
        "*In another hand, we will build the Polynomial Regression model and visualize it to see the differences:*"
      ]
    },
    {
      "cell_type": "code",
      "metadata": {
        "colab": {
          "base_uri": "https://localhost:8080/",
          "height": 295
        },
        "id": "AGJNdQp6XVJg",
        "outputId": "1b92f468-2d28-434b-d98a-40c9e0f043d5"
      },
      "source": [
        "# Fitting Polynomial Regression to the dataset\r\n",
        "from sklearn.preprocessing import PolynomialFeatures\r\n",
        "poly_reg = PolynomialFeatures(degree=4)\r\n",
        "X_poly = poly_reg.fit_transform(X)\r\n",
        "pol_reg = LinearRegression()\r\n",
        "pol_reg.fit(X_poly, y)\r\n",
        "\r\n",
        "# Visualizing the Polymonial Regression results\r\n",
        "def viz_polymonial():\r\n",
        "    plt.scatter(X, y, color='red')\r\n",
        "    plt.plot(X, pol_reg.predict(poly_reg.fit_transform(X)), color='blue')\r\n",
        "    plt.title('Truth or Bluff (Linear Regression)')\r\n",
        "    plt.xlabel('Position level')\r\n",
        "    plt.ylabel('Salary')\r\n",
        "    plt.show()\r\n",
        "    return\r\n",
        "viz_polymonial()\r\n"
      ],
      "execution_count": null,
      "outputs": [
        {
          "output_type": "display_data",
          "data": {
            "image/png": "[encoded data removed]",
            "text/plain": [
              "<Figure size 432x288 with 1 Axes>"
            ]
          },
          "metadata": {
            "tags": [],
            "needs_background": "light"
          }
        }
      ]
    },
    {
      "cell_type": "markdown",
      "metadata": {
        "id": "eJWVJU3yXZZZ"
      },
      "source": [
        "Last step, let’s predict the value of our candidate (with 5.5 YE) using both Linear Regression model and Polynomial Regression model:\r\n"
      ]
    },
    {
      "cell_type": "code",
      "metadata": {
        "colab": {
          "base_uri": "https://localhost:8080/"
        },
        "id": "Gju-vyxHXdtb",
        "outputId": "ece5b91d-256a-48d0-965d-d6d5970bf02d"
      },
      "source": [
        "# Predicting a new result with Linear Regression\r\n",
        "lin_reg.predict([[5.5]])\r\n"
      ],
      "execution_count": null,
      "outputs": [
        {
          "output_type": "execute_result",
          "data": {
            "text/plain": [
              "array([249500.])"
            ]
          },
          "metadata": {
            "tags": []
          },
          "execution_count": 12
        }
      ]
    },
    {
      "cell_type": "code",
      "metadata": {
        "colab": {
          "base_uri": "https://localhost:8080/"
        },
        "id": "Zyj1lQ5KXp8y",
        "outputId": "f5260fd4-5871-4994-9ae5-ffba531e74ed"
      },
      "source": [
        "# Predicting a new result with Polymonial Regression\r\n",
        "pol_reg.predict(poly_reg.fit_transform([[5.5]]))\r\n"
      ],
      "execution_count": null,
      "outputs": [
        {
          "output_type": "execute_result",
          "data": {
            "text/plain": [
              "array([132148.43750002])"
            ]
          },
          "metadata": {
            "tags": []
          },
          "execution_count": 13
        }
      ]
    },
    {
      "cell_type": "markdown",
      "metadata": {
        "id": "IidZlzgOXzxu"
      },
      "source": [
        "You can see, the predicted values using Linear Regression model and Polynomial Regression model are totally different!\r\n",
        "\r\n",
        "Let’s scroll up and check again what we got? According to our data set, our salary should be:\r\n",
        "\r\n",
        "$110,000 < the salary < $150,000\r\n",
        "\r\n",
        "But the predicted salary using Linear Regression lin_reg is $249,500.\r\n",
        " It’s unacceptable (but still in the range of -10,000 to 300,000 according to Linear Regression)! \r\n",
        " What’s about using Polynomial Regression? Our pol_reg value is $132,148.43750 which is very close to our Mean value which is $130,000.\r\n",
        "\r\n"
      ]
    }
  ]
}