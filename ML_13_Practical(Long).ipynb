{
  "nbformat": 4,
  "nbformat_minor": 0,
  "metadata": {
    "colab": {
      "name": "ML_13_Practical(Long).ipynb",
      "provenance": [],
      "collapsed_sections": [],
      "authorship_tag": "ABX9TyMg3d9n5LYSYIv93sZOH9jY",
      "include_colab_link": true
    },
    "kernelspec": {
      "name": "python3",
      "display_name": "Python 3"
    }
  },
  "cells": [
    {
      "cell_type": "markdown",
      "metadata": {
        "id": "view-in-github",
        "colab_type": "text"
      },
      "source": [
        "<a href=\"https://colab.research.google.com/github/AAFREEN-SAYYED/ML-Practical-Solution/blob/gh-pages/ML_13_Practical(Long).ipynb\" target=\"_parent\"><img src=\"https://colab.research.google.com/assets/colab-badge.svg\" alt=\"Open In Colab\"/></a>"
      ]
    },
    {
      "cell_type": "markdown",
      "metadata": {
        "id": "UWjj0knFlhh5"
      },
      "source": [
        "***Dissecting the K-Means algorithm with a case study***"
      ]
    },
    {
      "cell_type": "code",
      "metadata": {
        "id": "Rdu8uTkKS7Js",
        "colab": {
          "base_uri": "https://localhost:8080/"
        },
        "outputId": "957aefd4-9157-4026-f391-d52a1ba42643"
      },
      "source": [
        "# Imports\r\n",
        "import matplotlib.pyplot as plt\r\n",
        "\r\n",
        "from sklearn.datasets.samples_generator import make_blobs\r\n",
        "\r\n",
        "# Generate 2D data points\r\n",
        "X, _ = make_blobs(n_samples=10, centers=3, n_features=2,\r\n",
        "                 cluster_std=0.2,  random_state=0)\r\n",
        "\r\n",
        "# Convert the data points into a pandas DataFrame\r\n",
        "import pandas as pd\r\n",
        "\r\n",
        "# Generate indicators for the data points\r\n",
        "obj_names = []\r\n",
        "for i in range(1, 11):\r\n",
        "    obj = \"Object \" + str(i)\r\n",
        "    obj_names.append(obj)\r\n",
        "\r\n",
        "# Create a pandas DataFrame with the names and (x, y) coordinates\r\n",
        "data = pd.DataFrame({\r\n",
        "    'Object': obj_names,\r\n",
        "    'X_value': X[:, 0],\r\n",
        "    'Y_value': X[:, -1]\r\n",
        "})\r\n",
        "\r\n",
        "# Preview the data\r\n",
        "print(data.head())"
      ],
      "execution_count": null,
      "outputs": [
        {
          "output_type": "stream",
          "text": [
            "     Object   X_value   Y_value\n",
            "0  Object 1  1.005079  4.594642\n",
            "1  Object 2  1.128478  4.328122\n",
            "2  Object 3  2.117881  0.726845\n",
            "3  Object 4  0.955626  4.385907\n",
            "4  Object 5 -1.354017  2.769449\n"
          ],
          "name": "stdout"
        }
      ]
    },
    {
      "cell_type": "code",
      "metadata": {
        "colab": {
          "base_uri": "https://localhost:8080/",
          "height": 265
        },
        "id": "zJIKiH29jQGg",
        "outputId": "dd11ca18-22fb-4c8e-bb4f-60dfae8e2652"
      },
      "source": [
        "plt.scatter(X[:, 0], X[:, -1])\r\n",
        "plt.show()"
      ],
      "execution_count": null,
      "outputs": [
        {
          "output_type": "display_data",
          "data": {
            "image/png": "[encoded data removed]",
            "text/plain": [
              "<Figure size 432x288 with 1 Axes>"
            ]
          },
          "metadata": {
            "tags": [],
            "needs_background": "light"
          }
        }
      ]
    },
    {
      "cell_type": "markdown",
      "metadata": {
        "id": "qEeyMlwJmLlV"
      },
      "source": [
        "We have a total of 10 data points with their x and y coordinates. We will give this data as the input to the K-Means algorithm. From the above scatter plot, it is clear that the data points can be grouped into 3 clusters (but a computer may have a very hard time figuring that out). So, we will ask the K-Means algorithm to cluster the data points into 3 clusters.\r\n",
        "\r\n"
      ]
    },
    {
      "cell_type": "code",
      "metadata": {
        "id": "4Lud00_0jQLM"
      },
      "source": [
        "# Using scikit-learn to perform K-Means clustering\r\n",
        "from sklearn.cluster import KMeans\r\n",
        "    \r\n",
        "# Specify the number of clusters (3) and fit the data X\r\n",
        "kmeans = KMeans(n_clusters=3, random_state=0).fit(X)"
      ],
      "execution_count": null,
      "outputs": []
    },
    {
      "cell_type": "markdown",
      "metadata": {
        "id": "1Npf8h1KmpjE"
      },
      "source": [
        "We specified the number of desired clusters to be 3 (the value of K). After that, we gave the data points as the inputs to the K-Means model and trained the model. Let’s now extract the cluster centroids and the cluster labels from the K-Means variable.\r\n",
        "\r\n"
      ]
    },
    {
      "cell_type": "code",
      "metadata": {
        "colab": {
          "base_uri": "https://localhost:8080/"
        },
        "id": "hGh1DYbkkTEh",
        "outputId": "a85d445c-8f07-47c4-e0ca-109344c27516"
      },
      "source": [
        "# Get the cluster centroids\r\n",
        "print(kmeans.cluster_centers_)\r\n",
        "    \r\n",
        "# Get the cluster labels\r\n",
        "print(kmeans.labels_)\r\n"
      ],
      "execution_count": null,
      "outputs": [
        {
          "output_type": "stream",
          "text": [
            "[[ 1.06386762  4.39554682]\n",
            " [ 2.20533486  0.84929168]\n",
            " [-1.48815728  2.81502145]]\n",
            "[0 0 1 0 2 2 2 1 1 0]\n"
          ],
          "name": "stdout"
        }
      ]
    },
    {
      "cell_type": "code",
      "metadata": {
        "colab": {
          "base_uri": "https://localhost:8080/",
          "height": 281
        },
        "id": "dTiEK-KVkXJU",
        "outputId": "5f23e98a-8b86-430e-cbb9-a5a6759853ab"
      },
      "source": [
        "# Plotting the cluster centers and the data points on a 2D plane\r\n",
        "plt.scatter(X[:, 0], X[:, -1])\r\n",
        "    \r\n",
        "plt.scatter(kmeans.cluster_centers_[:, 0], kmeans.cluster_centers_[:, 1], c='red', marker='x')\r\n",
        "    \r\n",
        "plt.title('Data points and cluster centroids')\r\n",
        "plt.show()\r\n"
      ],
      "execution_count": null,
      "outputs": [
        {
          "output_type": "display_data",
          "data": {
            "image/png": "[encoded data removed]",
            "text/plain": [
              "<Figure size 432x288 with 1 Axes>"
            ]
          },
          "metadata": {
            "tags": [],
            "needs_background": "light"
          }
        }
      ]
    },
    {
      "cell_type": "markdown",
      "metadata": {
        "id": "trALA7HDm9hv"
      },
      "source": [
        "The above figure is way more informative than the descriptive results shown above. We still have two extremely questions to answer:\r\n",
        "\r\n",
        "How does one evaluate the performance of a clustering algorithm?\r\n",
        "\r\n",
        "How to decide the ideal value of K in K-Means?\r\n",
        "\r\n",
        "The questions complement each other. Let’s now find their answers.\r\n",
        "\r\n",
        "**Evaluating a clustering algorithm and choosing ‘K’**\r\n",
        "\r\n",
        "For this section, the clustering algorithm would be K-Means but the concepts can be applied to any clustering algorithm in general.\r\n",
        "\r\n",
        "**Cluster evaluation: the silhouette score**\r\n",
        "\r\n",
        "With scikit-learn, you can calculate the silhouette coefficients for all the data points very easily:"
      ]
    },
    {
      "cell_type": "code",
      "metadata": {
        "colab": {
          "base_uri": "https://localhost:8080/"
        },
        "id": "mobghOV2knUL",
        "outputId": "72cd657b-061b-482c-ff4d-71c339eeff1f"
      },
      "source": [
        "# Calculate silhouette_score\r\n",
        "from sklearn.metrics import silhouette_score\r\n",
        "\r\n",
        "print(silhouette_score(X, kmeans.labels_))"
      ],
      "execution_count": null,
      "outputs": [
        {
          "output_type": "stream",
          "text": [
            "0.8810668519873337\n"
          ],
          "name": "stdout"
        }
      ]
    },
    {
      "cell_type": "markdown",
      "metadata": {
        "id": "dq80_xBxnhz-"
      },
      "source": [
        "**Using silhouette coefficients to determine K: The elbow method**\r\n",
        "\r\n",
        "Let’s implement this in Python now. We will use the yellowbrick library for doing this:\r\n",
        "\r\n",
        "We quickly trained three different K-Means models with 2, 3, 4 and 5 as the values of K.\r\n"
      ]
    },
    {
      "cell_type": "code",
      "metadata": {
        "colab": {
          "base_uri": "https://localhost:8080/",
          "height": 430
        },
        "id": "ZmJxcxX2ko5o",
        "outputId": "fbba702b-93ae-4880-f617-5c08a3859f52"
      },
      "source": [
        "# Import the KElbowVisualizer method \r\n",
        "from yellowbrick.cluster import KElbowVisualizer\r\n",
        "\r\n",
        "# Instantiate a scikit-learn K-Means model\r\n",
        "model = KMeans(random_state=0)\r\n",
        "\r\n",
        "# Instantiate the KElbowVisualizer with the number of clusters and the metric \r\n",
        "visualizer = KElbowVisualizer(model, k=(2,6), metric='silhouette', timings=False)\r\n",
        "\r\n",
        "# Fit the data and visualize\r\n",
        "visualizer.fit(X)    \r\n",
        "visualizer.poof()   \r\n"
      ],
      "execution_count": null,
      "outputs": [
        {
          "output_type": "stream",
          "text": [
            "/usr/local/lib/python3.6/dist-packages/sklearn/utils/deprecation.py:144: FutureWarning: The sklearn.metrics.classification module is  deprecated in version 0.22 and will be removed in version 0.24. The corresponding classes / functions should instead be imported from sklearn.metrics. Anything that cannot be imported from sklearn.metrics is now part of the private API.\n",
            "  warnings.warn(message, FutureWarning)\n"
          ],
          "name": "stderr"
        },
        {
          "output_type": "display_data",
          "data": {
            "image/png": "[encoded data removed]",
            "text/plain": [
              "<Figure size 576x396 with 1 Axes>"
            ]
          },
          "metadata": {
            "tags": []
          }
        }
      ]
    },
    {
      "cell_type": "markdown",
      "metadata": {
        "id": "5r_KnJB-n55n"
      },
      "source": [
        "We can see that for K = 3, we get the highest average silhouette coefficient. The figure loosely resembles an elbow, hence the name of the method. "
      ]
    }
  ]
}