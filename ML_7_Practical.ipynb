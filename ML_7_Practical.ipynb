{
  "nbformat": 4,
  "nbformat_minor": 0,
  "metadata": {
    "colab": {
      "name": "ML_7_Practical.ipynb",
      "provenance": [],
      "collapsed_sections": [],
      "authorship_tag": "ABX9TyMyvbWtYCMpWNwv+at2Y3lk",
      "include_colab_link": true
    },
    "kernelspec": {
      "name": "python3",
      "display_name": "Python 3"
    }
  },
  "cells": [
    {
      "cell_type": "markdown",
      "metadata": {
        "id": "view-in-github",
        "colab_type": "text"
      },
      "source": [
        "<a href=\"https://colab.research.google.com/github/AAFREEN-SAYYED/ML-Practical-Solution/blob/gh-pages/ML_7_Practical.ipynb\" target=\"_parent\"><img src=\"https://colab.research.google.com/assets/colab-badge.svg\" alt=\"Open In Colab\"/></a>"
      ]
    },
    {
      "cell_type": "markdown",
      "metadata": {
        "id": "PQZumF4wtNZ7"
      },
      "source": [
        "**Naive Bayes Classifier**\r\n"
      ]
    },
    {
      "cell_type": "code",
      "metadata": {
        "id": "_DgcIjcRqWkv"
      },
      "source": [
        "#Importing the required libraries\r\n",
        "import pandas as pd\r\n",
        "import numpy as np\r\n",
        "import seaborn as sns\r\n",
        "import matplotlib.pyplot as plt\r\n",
        "from sklearn.model_selection import train_test_split\r\n",
        "from sklearn.metrics import classification_report, confusion_matrix, accuracy_score\r\n"
      ],
      "execution_count": null,
      "outputs": []
    },
    {
      "cell_type": "code",
      "metadata": {
        "id": "ZP3ypxDKtzBC"
      },
      "source": [
        "df = pd.read_csv('placement.csv')\r\n",
        "df"
      ],
      "execution_count": null,
      "outputs": []
    },
    {
      "cell_type": "markdown",
      "metadata": {
        "id": "uJdxsXmzuSzQ"
      },
      "source": [
        "**Preprocessing of data:**\r\n",
        "\r\n",
        "First we have to check that dataset contain any null value or not if it contain we have to apply the some transformation into it.\r\n"
      ]
    },
    {
      "cell_type": "code",
      "metadata": {
        "colab": {
          "base_uri": "https://localhost:8080/"
        },
        "id": "jyfvDF9euM31",
        "outputId": "b3d44f0c-9c91-4276-9887-18ec7d73c715"
      },
      "source": [
        "df.isnull().sum()"
      ],
      "execution_count": null,
      "outputs": [
        {
          "output_type": "execute_result",
          "data": {
            "text/plain": [
              "sl_no             0\n",
              "gender            0\n",
              "ssc_p             0\n",
              "ssc_b             0\n",
              "hsc_p             0\n",
              "hsc_b             0\n",
              "hsc_s             0\n",
              "degree_p          0\n",
              "degree_t          0\n",
              "workex            0\n",
              "etest_p           0\n",
              "specialisation    0\n",
              "mba_p             0\n",
              "status            0\n",
              "dtype: int64"
            ]
          },
          "metadata": {
            "tags": []
          },
          "execution_count": 4
        }
      ]
    },
    {
      "cell_type": "code",
      "metadata": {
        "colab": {
          "base_uri": "https://localhost:8080/"
        },
        "id": "UFC_dvoeufqa",
        "outputId": "28b23545-8bf2-41df-f903-b44f2bc215ab"
      },
      "source": [
        "#shape method returns a tuple representing the dimensionality of the DataFrame.\r\n",
        "df.shape"
      ],
      "execution_count": null,
      "outputs": [
        {
          "output_type": "execute_result",
          "data": {
            "text/plain": [
              "(215, 14)"
            ]
          },
          "metadata": {
            "tags": []
          },
          "execution_count": 7
        }
      ]
    },
    {
      "cell_type": "code",
      "metadata": {
        "colab": {
          "base_uri": "https://localhost:8080/"
        },
        "id": "tMGpyovTuy4X",
        "outputId": "ec45289f-3118-4bbd-a9aa-dcd12fc517e1"
      },
      "source": [
        "#info() is used to print the concise summary of dataframe\r\n",
        "df.info()"
      ],
      "execution_count": null,
      "outputs": [
        {
          "output_type": "stream",
          "text": [
            "<class 'pandas.core.frame.DataFrame'>\n",
            "RangeIndex: 215 entries, 0 to 214\n",
            "Data columns (total 14 columns):\n",
            " #   Column          Non-Null Count  Dtype  \n",
            "---  ------          --------------  -----  \n",
            " 0   sl_no           215 non-null    int64  \n",
            " 1   gender          215 non-null    object \n",
            " 2   ssc_p           215 non-null    float64\n",
            " 3   ssc_b           215 non-null    object \n",
            " 4   hsc_p           215 non-null    float64\n",
            " 5   hsc_b           215 non-null    object \n",
            " 6   hsc_s           215 non-null    object \n",
            " 7   degree_p        215 non-null    float64\n",
            " 8   degree_t        215 non-null    object \n",
            " 9   workex          215 non-null    object \n",
            " 10  etest_p         215 non-null    float64\n",
            " 11  specialisation  215 non-null    object \n",
            " 12  mba_p           215 non-null    float64\n",
            " 13  status          215 non-null    object \n",
            "dtypes: float64(5), int64(1), object(8)\n",
            "memory usage: 23.6+ KB\n"
          ],
          "name": "stdout"
        }
      ]
    },
    {
      "cell_type": "markdown",
      "metadata": {
        "id": "fR_unP_cu8JF"
      },
      "source": [
        "**Data Visualization:**\r\n",
        "\r\n",
        "It aims to communicate data clearly & efficiently through graphical representation.\r\n"
      ]
    },
    {
      "cell_type": "code",
      "metadata": {
        "colab": {
          "base_uri": "https://localhost:8080/",
          "height": 296
        },
        "id": "Xdu82vKou1IX",
        "outputId": "1108a544-6ae7-451c-f319-3a35186a5723"
      },
      "source": [
        "sns.countplot(x='status',data = df)\r\n"
      ],
      "execution_count": null,
      "outputs": [
        {
          "output_type": "execute_result",
          "data": {
            "text/plain": [
              "<matplotlib.axes._subplots.AxesSubplot at 0x7f54405d19e8>"
            ]
          },
          "metadata": {
            "tags": []
          },
          "execution_count": 14
        },
        {
          "output_type": "display_data",
          "data": {
            "image/png": "[encoded data removed]",
            "text/plain": [
              "<Figure size 432x288 with 1 Axes>"
            ]
          },
          "metadata": {
            "tags": [],
            "needs_background": "light"
          }
        }
      ]
    },
    {
      "cell_type": "code",
      "metadata": {
        "colab": {
          "base_uri": "https://localhost:8080/",
          "height": 296
        },
        "id": "bEPz1cLLv6rj",
        "outputId": "323366fe-3f40-45cf-fca5-e382ac133080"
      },
      "source": [
        "sns.countplot(x='status',hue='gender',data = df)"
      ],
      "execution_count": null,
      "outputs": [
        {
          "output_type": "execute_result",
          "data": {
            "text/plain": [
              "<matplotlib.axes._subplots.AxesSubplot at 0x7f5440539240>"
            ]
          },
          "metadata": {
            "tags": []
          },
          "execution_count": 15
        },
        {
          "output_type": "display_data",
          "data": {
            "image/png": "[encoded data removed]",
            "text/plain": [
              "<Figure size 432x288 with 1 Axes>"
            ]
          },
          "metadata": {
            "tags": [],
            "needs_background": "light"
          }
        }
      ]
    },
    {
      "cell_type": "code",
      "metadata": {
        "colab": {
          "base_uri": "https://localhost:8080/",
          "height": 419
        },
        "id": "h6X5D3Mav-1L",
        "outputId": "4666c7d8-af11-49f7-d5c8-aeb55bfeddd2"
      },
      "source": [
        "#Convert categorical variable into indicator variables\r\n",
        "workexp= pd.get_dummies(df['workex'])\r\n",
        "workexp"
      ],
      "execution_count": null,
      "outputs": [
        {
          "output_type": "execute_result",
          "data": {
            "text/html": [
              "<div>\n",
              "<style scoped>\n",
              "    .dataframe tbody tr th:only-of-type {\n",
              "        vertical-align: middle;\n",
              "    }\n",
              "\n",
              "    .dataframe tbody tr th {\n",
              "        vertical-align: top;\n",
              "    }\n",
              "\n",
              "    .dataframe thead th {\n",
              "        text-align: right;\n",
              "    }\n",
              "</style>\n",
              "<table border=\"1\" class=\"dataframe\">\n",
              "  <thead>\n",
              "    <tr style=\"text-align: right;\">\n",
              "      <th></th>\n",
              "      <th>No</th>\n",
              "      <th>Yes</th>\n",
              "    </tr>\n",
              "  </thead>\n",
              "  <tbody>\n",
              "    <tr>\n",
              "      <th>0</th>\n",
              "      <td>1</td>\n",
              "      <td>0</td>\n",
              "    </tr>\n",
              "    <tr>\n",
              "      <th>1</th>\n",
              "      <td>0</td>\n",
              "      <td>1</td>\n",
              "    </tr>\n",
              "    <tr>\n",
              "      <th>2</th>\n",
              "      <td>1</td>\n",
              "      <td>0</td>\n",
              "    </tr>\n",
              "    <tr>\n",
              "      <th>3</th>\n",
              "      <td>1</td>\n",
              "      <td>0</td>\n",
              "    </tr>\n",
              "    <tr>\n",
              "      <th>4</th>\n",
              "      <td>1</td>\n",
              "      <td>0</td>\n",
              "    </tr>\n",
              "    <tr>\n",
              "      <th>...</th>\n",
              "      <td>...</td>\n",
              "      <td>...</td>\n",
              "    </tr>\n",
              "    <tr>\n",
              "      <th>210</th>\n",
              "      <td>1</td>\n",
              "      <td>0</td>\n",
              "    </tr>\n",
              "    <tr>\n",
              "      <th>211</th>\n",
              "      <td>1</td>\n",
              "      <td>0</td>\n",
              "    </tr>\n",
              "    <tr>\n",
              "      <th>212</th>\n",
              "      <td>0</td>\n",
              "      <td>1</td>\n",
              "    </tr>\n",
              "    <tr>\n",
              "      <th>213</th>\n",
              "      <td>1</td>\n",
              "      <td>0</td>\n",
              "    </tr>\n",
              "    <tr>\n",
              "      <th>214</th>\n",
              "      <td>1</td>\n",
              "      <td>0</td>\n",
              "    </tr>\n",
              "  </tbody>\n",
              "</table>\n",
              "<p>215 rows × 2 columns</p>\n",
              "</div>"
            ],
            "text/plain": [
              "     No  Yes\n",
              "0     1    0\n",
              "1     0    1\n",
              "2     1    0\n",
              "3     1    0\n",
              "4     1    0\n",
              "..   ..  ...\n",
              "210   1    0\n",
              "211   1    0\n",
              "212   0    1\n",
              "213   1    0\n",
              "214   1    0\n",
              "\n",
              "[215 rows x 2 columns]"
            ]
          },
          "metadata": {
            "tags": []
          },
          "execution_count": 17
        }
      ]
    },
    {
      "cell_type": "code",
      "metadata": {
        "colab": {
          "base_uri": "https://localhost:8080/",
          "height": 473
        },
        "id": "wlDibzERwI_P",
        "outputId": "257991a0-f4d0-4223-939b-4b5d832a8165"
      },
      "source": [
        "#Concatenate the data into original dataset.\r\n",
        "df=pd.concat([df,workexp],axis=1)\r\n",
        "df"
      ],
      "execution_count": null,
      "outputs": [
        {
          "output_type": "execute_result",
          "data": {
            "text/html": [
              "<div>\n",
              "<style scoped>\n",
              "    .dataframe tbody tr th:only-of-type {\n",
              "        vertical-align: middle;\n",
              "    }\n",
              "\n",
              "    .dataframe tbody tr th {\n",
              "        vertical-align: top;\n",
              "    }\n",
              "\n",
              "    .dataframe thead th {\n",
              "        text-align: right;\n",
              "    }\n",
              "</style>\n",
              "<table border=\"1\" class=\"dataframe\">\n",
              "  <thead>\n",
              "    <tr style=\"text-align: right;\">\n",
              "      <th></th>\n",
              "      <th>sl_no</th>\n",
              "      <th>gender</th>\n",
              "      <th>ssc_p</th>\n",
              "      <th>ssc_b</th>\n",
              "      <th>hsc_p</th>\n",
              "      <th>hsc_b</th>\n",
              "      <th>hsc_s</th>\n",
              "      <th>degree_p</th>\n",
              "      <th>degree_t</th>\n",
              "      <th>workex</th>\n",
              "      <th>etest_p</th>\n",
              "      <th>specialisation</th>\n",
              "      <th>mba_p</th>\n",
              "      <th>status</th>\n",
              "      <th>No</th>\n",
              "      <th>Yes</th>\n",
              "    </tr>\n",
              "  </thead>\n",
              "  <tbody>\n",
              "    <tr>\n",
              "      <th>0</th>\n",
              "      <td>1</td>\n",
              "      <td>M</td>\n",
              "      <td>67.00</td>\n",
              "      <td>Others</td>\n",
              "      <td>91.00</td>\n",
              "      <td>Others</td>\n",
              "      <td>Commerce</td>\n",
              "      <td>58.00</td>\n",
              "      <td>Sci&amp;Tech</td>\n",
              "      <td>No</td>\n",
              "      <td>55.0</td>\n",
              "      <td>Mkt&amp;HR</td>\n",
              "      <td>58.80</td>\n",
              "      <td>Placed</td>\n",
              "      <td>1</td>\n",
              "      <td>0</td>\n",
              "    </tr>\n",
              "    <tr>\n",
              "      <th>1</th>\n",
              "      <td>2</td>\n",
              "      <td>M</td>\n",
              "      <td>79.33</td>\n",
              "      <td>Central</td>\n",
              "      <td>78.33</td>\n",
              "      <td>Others</td>\n",
              "      <td>Science</td>\n",
              "      <td>77.48</td>\n",
              "      <td>Sci&amp;Tech</td>\n",
              "      <td>Yes</td>\n",
              "      <td>86.5</td>\n",
              "      <td>Mkt&amp;Fin</td>\n",
              "      <td>66.28</td>\n",
              "      <td>Placed</td>\n",
              "      <td>0</td>\n",
              "      <td>1</td>\n",
              "    </tr>\n",
              "    <tr>\n",
              "      <th>2</th>\n",
              "      <td>3</td>\n",
              "      <td>M</td>\n",
              "      <td>65.00</td>\n",
              "      <td>Central</td>\n",
              "      <td>68.00</td>\n",
              "      <td>Central</td>\n",
              "      <td>Arts</td>\n",
              "      <td>64.00</td>\n",
              "      <td>Comm&amp;Mgmt</td>\n",
              "      <td>No</td>\n",
              "      <td>75.0</td>\n",
              "      <td>Mkt&amp;Fin</td>\n",
              "      <td>57.80</td>\n",
              "      <td>Placed</td>\n",
              "      <td>1</td>\n",
              "      <td>0</td>\n",
              "    </tr>\n",
              "    <tr>\n",
              "      <th>3</th>\n",
              "      <td>4</td>\n",
              "      <td>M</td>\n",
              "      <td>56.00</td>\n",
              "      <td>Central</td>\n",
              "      <td>52.00</td>\n",
              "      <td>Central</td>\n",
              "      <td>Science</td>\n",
              "      <td>52.00</td>\n",
              "      <td>Sci&amp;Tech</td>\n",
              "      <td>No</td>\n",
              "      <td>66.0</td>\n",
              "      <td>Mkt&amp;HR</td>\n",
              "      <td>59.43</td>\n",
              "      <td>Not Placed</td>\n",
              "      <td>1</td>\n",
              "      <td>0</td>\n",
              "    </tr>\n",
              "    <tr>\n",
              "      <th>4</th>\n",
              "      <td>5</td>\n",
              "      <td>M</td>\n",
              "      <td>85.80</td>\n",
              "      <td>Central</td>\n",
              "      <td>73.60</td>\n",
              "      <td>Central</td>\n",
              "      <td>Commerce</td>\n",
              "      <td>73.30</td>\n",
              "      <td>Comm&amp;Mgmt</td>\n",
              "      <td>No</td>\n",
              "      <td>96.8</td>\n",
              "      <td>Mkt&amp;Fin</td>\n",
              "      <td>55.50</td>\n",
              "      <td>Placed</td>\n",
              "      <td>1</td>\n",
              "      <td>0</td>\n",
              "    </tr>\n",
              "    <tr>\n",
              "      <th>...</th>\n",
              "      <td>...</td>\n",
              "      <td>...</td>\n",
              "      <td>...</td>\n",
              "      <td>...</td>\n",
              "      <td>...</td>\n",
              "      <td>...</td>\n",
              "      <td>...</td>\n",
              "      <td>...</td>\n",
              "      <td>...</td>\n",
              "      <td>...</td>\n",
              "      <td>...</td>\n",
              "      <td>...</td>\n",
              "      <td>...</td>\n",
              "      <td>...</td>\n",
              "      <td>...</td>\n",
              "      <td>...</td>\n",
              "    </tr>\n",
              "    <tr>\n",
              "      <th>210</th>\n",
              "      <td>211</td>\n",
              "      <td>M</td>\n",
              "      <td>80.60</td>\n",
              "      <td>Others</td>\n",
              "      <td>82.00</td>\n",
              "      <td>Others</td>\n",
              "      <td>Commerce</td>\n",
              "      <td>77.60</td>\n",
              "      <td>Comm&amp;Mgmt</td>\n",
              "      <td>No</td>\n",
              "      <td>91.0</td>\n",
              "      <td>Mkt&amp;Fin</td>\n",
              "      <td>74.49</td>\n",
              "      <td>Placed</td>\n",
              "      <td>1</td>\n",
              "      <td>0</td>\n",
              "    </tr>\n",
              "    <tr>\n",
              "      <th>211</th>\n",
              "      <td>212</td>\n",
              "      <td>M</td>\n",
              "      <td>58.00</td>\n",
              "      <td>Others</td>\n",
              "      <td>60.00</td>\n",
              "      <td>Others</td>\n",
              "      <td>Science</td>\n",
              "      <td>72.00</td>\n",
              "      <td>Sci&amp;Tech</td>\n",
              "      <td>No</td>\n",
              "      <td>74.0</td>\n",
              "      <td>Mkt&amp;Fin</td>\n",
              "      <td>53.62</td>\n",
              "      <td>Placed</td>\n",
              "      <td>1</td>\n",
              "      <td>0</td>\n",
              "    </tr>\n",
              "    <tr>\n",
              "      <th>212</th>\n",
              "      <td>213</td>\n",
              "      <td>M</td>\n",
              "      <td>67.00</td>\n",
              "      <td>Others</td>\n",
              "      <td>67.00</td>\n",
              "      <td>Others</td>\n",
              "      <td>Commerce</td>\n",
              "      <td>73.00</td>\n",
              "      <td>Comm&amp;Mgmt</td>\n",
              "      <td>Yes</td>\n",
              "      <td>59.0</td>\n",
              "      <td>Mkt&amp;Fin</td>\n",
              "      <td>69.72</td>\n",
              "      <td>Placed</td>\n",
              "      <td>0</td>\n",
              "      <td>1</td>\n",
              "    </tr>\n",
              "    <tr>\n",
              "      <th>213</th>\n",
              "      <td>214</td>\n",
              "      <td>F</td>\n",
              "      <td>74.00</td>\n",
              "      <td>Others</td>\n",
              "      <td>66.00</td>\n",
              "      <td>Others</td>\n",
              "      <td>Commerce</td>\n",
              "      <td>58.00</td>\n",
              "      <td>Comm&amp;Mgmt</td>\n",
              "      <td>No</td>\n",
              "      <td>70.0</td>\n",
              "      <td>Mkt&amp;HR</td>\n",
              "      <td>60.23</td>\n",
              "      <td>Placed</td>\n",
              "      <td>1</td>\n",
              "      <td>0</td>\n",
              "    </tr>\n",
              "    <tr>\n",
              "      <th>214</th>\n",
              "      <td>215</td>\n",
              "      <td>M</td>\n",
              "      <td>62.00</td>\n",
              "      <td>Central</td>\n",
              "      <td>58.00</td>\n",
              "      <td>Others</td>\n",
              "      <td>Science</td>\n",
              "      <td>53.00</td>\n",
              "      <td>Comm&amp;Mgmt</td>\n",
              "      <td>No</td>\n",
              "      <td>89.0</td>\n",
              "      <td>Mkt&amp;HR</td>\n",
              "      <td>60.22</td>\n",
              "      <td>Not Placed</td>\n",
              "      <td>1</td>\n",
              "      <td>0</td>\n",
              "    </tr>\n",
              "  </tbody>\n",
              "</table>\n",
              "<p>215 rows × 16 columns</p>\n",
              "</div>"
            ],
            "text/plain": [
              "     sl_no gender  ssc_p    ssc_b  ...  mba_p      status No  Yes\n",
              "0        1      M  67.00   Others  ...  58.80      Placed  1    0\n",
              "1        2      M  79.33  Central  ...  66.28      Placed  0    1\n",
              "2        3      M  65.00  Central  ...  57.80      Placed  1    0\n",
              "3        4      M  56.00  Central  ...  59.43  Not Placed  1    0\n",
              "4        5      M  85.80  Central  ...  55.50      Placed  1    0\n",
              "..     ...    ...    ...      ...  ...    ...         ... ..  ...\n",
              "210    211      M  80.60   Others  ...  74.49      Placed  1    0\n",
              "211    212      M  58.00   Others  ...  53.62      Placed  1    0\n",
              "212    213      M  67.00   Others  ...  69.72      Placed  0    1\n",
              "213    214      F  74.00   Others  ...  60.23      Placed  1    0\n",
              "214    215      M  62.00  Central  ...  60.22  Not Placed  1    0\n",
              "\n",
              "[215 rows x 16 columns]"
            ]
          },
          "metadata": {
            "tags": []
          },
          "execution_count": 18
        }
      ]
    },
    {
      "cell_type": "code",
      "metadata": {
        "colab": {
          "base_uri": "https://localhost:8080/",
          "height": 419
        },
        "id": "hF1F7T0bwQp6",
        "outputId": "954ba39f-9af3-4ea6-abab-3cb61c961690"
      },
      "source": [
        "df.drop(['sl_no','gender','ssc_b','hsc_b','hsc_s','degree_t','workex','specialisation'],axis=1,inplace=True)\r\n",
        "df"
      ],
      "execution_count": null,
      "outputs": [
        {
          "output_type": "execute_result",
          "data": {
            "text/html": [
              "<div>\n",
              "<style scoped>\n",
              "    .dataframe tbody tr th:only-of-type {\n",
              "        vertical-align: middle;\n",
              "    }\n",
              "\n",
              "    .dataframe tbody tr th {\n",
              "        vertical-align: top;\n",
              "    }\n",
              "\n",
              "    .dataframe thead th {\n",
              "        text-align: right;\n",
              "    }\n",
              "</style>\n",
              "<table border=\"1\" class=\"dataframe\">\n",
              "  <thead>\n",
              "    <tr style=\"text-align: right;\">\n",
              "      <th></th>\n",
              "      <th>ssc_p</th>\n",
              "      <th>hsc_p</th>\n",
              "      <th>degree_p</th>\n",
              "      <th>etest_p</th>\n",
              "      <th>mba_p</th>\n",
              "      <th>status</th>\n",
              "      <th>No</th>\n",
              "      <th>Yes</th>\n",
              "    </tr>\n",
              "  </thead>\n",
              "  <tbody>\n",
              "    <tr>\n",
              "      <th>0</th>\n",
              "      <td>67.00</td>\n",
              "      <td>91.00</td>\n",
              "      <td>58.00</td>\n",
              "      <td>55.0</td>\n",
              "      <td>58.80</td>\n",
              "      <td>Placed</td>\n",
              "      <td>1</td>\n",
              "      <td>0</td>\n",
              "    </tr>\n",
              "    <tr>\n",
              "      <th>1</th>\n",
              "      <td>79.33</td>\n",
              "      <td>78.33</td>\n",
              "      <td>77.48</td>\n",
              "      <td>86.5</td>\n",
              "      <td>66.28</td>\n",
              "      <td>Placed</td>\n",
              "      <td>0</td>\n",
              "      <td>1</td>\n",
              "    </tr>\n",
              "    <tr>\n",
              "      <th>2</th>\n",
              "      <td>65.00</td>\n",
              "      <td>68.00</td>\n",
              "      <td>64.00</td>\n",
              "      <td>75.0</td>\n",
              "      <td>57.80</td>\n",
              "      <td>Placed</td>\n",
              "      <td>1</td>\n",
              "      <td>0</td>\n",
              "    </tr>\n",
              "    <tr>\n",
              "      <th>3</th>\n",
              "      <td>56.00</td>\n",
              "      <td>52.00</td>\n",
              "      <td>52.00</td>\n",
              "      <td>66.0</td>\n",
              "      <td>59.43</td>\n",
              "      <td>Not Placed</td>\n",
              "      <td>1</td>\n",
              "      <td>0</td>\n",
              "    </tr>\n",
              "    <tr>\n",
              "      <th>4</th>\n",
              "      <td>85.80</td>\n",
              "      <td>73.60</td>\n",
              "      <td>73.30</td>\n",
              "      <td>96.8</td>\n",
              "      <td>55.50</td>\n",
              "      <td>Placed</td>\n",
              "      <td>1</td>\n",
              "      <td>0</td>\n",
              "    </tr>\n",
              "    <tr>\n",
              "      <th>...</th>\n",
              "      <td>...</td>\n",
              "      <td>...</td>\n",
              "      <td>...</td>\n",
              "      <td>...</td>\n",
              "      <td>...</td>\n",
              "      <td>...</td>\n",
              "      <td>...</td>\n",
              "      <td>...</td>\n",
              "    </tr>\n",
              "    <tr>\n",
              "      <th>210</th>\n",
              "      <td>80.60</td>\n",
              "      <td>82.00</td>\n",
              "      <td>77.60</td>\n",
              "      <td>91.0</td>\n",
              "      <td>74.49</td>\n",
              "      <td>Placed</td>\n",
              "      <td>1</td>\n",
              "      <td>0</td>\n",
              "    </tr>\n",
              "    <tr>\n",
              "      <th>211</th>\n",
              "      <td>58.00</td>\n",
              "      <td>60.00</td>\n",
              "      <td>72.00</td>\n",
              "      <td>74.0</td>\n",
              "      <td>53.62</td>\n",
              "      <td>Placed</td>\n",
              "      <td>1</td>\n",
              "      <td>0</td>\n",
              "    </tr>\n",
              "    <tr>\n",
              "      <th>212</th>\n",
              "      <td>67.00</td>\n",
              "      <td>67.00</td>\n",
              "      <td>73.00</td>\n",
              "      <td>59.0</td>\n",
              "      <td>69.72</td>\n",
              "      <td>Placed</td>\n",
              "      <td>0</td>\n",
              "      <td>1</td>\n",
              "    </tr>\n",
              "    <tr>\n",
              "      <th>213</th>\n",
              "      <td>74.00</td>\n",
              "      <td>66.00</td>\n",
              "      <td>58.00</td>\n",
              "      <td>70.0</td>\n",
              "      <td>60.23</td>\n",
              "      <td>Placed</td>\n",
              "      <td>1</td>\n",
              "      <td>0</td>\n",
              "    </tr>\n",
              "    <tr>\n",
              "      <th>214</th>\n",
              "      <td>62.00</td>\n",
              "      <td>58.00</td>\n",
              "      <td>53.00</td>\n",
              "      <td>89.0</td>\n",
              "      <td>60.22</td>\n",
              "      <td>Not Placed</td>\n",
              "      <td>1</td>\n",
              "      <td>0</td>\n",
              "    </tr>\n",
              "  </tbody>\n",
              "</table>\n",
              "<p>215 rows × 8 columns</p>\n",
              "</div>"
            ],
            "text/plain": [
              "     ssc_p  hsc_p  degree_p  etest_p  mba_p      status  No  Yes\n",
              "0    67.00  91.00     58.00     55.0  58.80      Placed   1    0\n",
              "1    79.33  78.33     77.48     86.5  66.28      Placed   0    1\n",
              "2    65.00  68.00     64.00     75.0  57.80      Placed   1    0\n",
              "3    56.00  52.00     52.00     66.0  59.43  Not Placed   1    0\n",
              "4    85.80  73.60     73.30     96.8  55.50      Placed   1    0\n",
              "..     ...    ...       ...      ...    ...         ...  ..  ...\n",
              "210  80.60  82.00     77.60     91.0  74.49      Placed   1    0\n",
              "211  58.00  60.00     72.00     74.0  53.62      Placed   1    0\n",
              "212  67.00  67.00     73.00     59.0  69.72      Placed   0    1\n",
              "213  74.00  66.00     58.00     70.0  60.23      Placed   1    0\n",
              "214  62.00  58.00     53.00     89.0  60.22  Not Placed   1    0\n",
              "\n",
              "[215 rows x 8 columns]"
            ]
          },
          "metadata": {
            "tags": []
          },
          "execution_count": 20
        }
      ]
    },
    {
      "cell_type": "code",
      "metadata": {
        "colab": {
          "base_uri": "https://localhost:8080/"
        },
        "id": "BTR8CUrDwl1H",
        "outputId": "5eb7e2c2-085a-486f-8420-f251c6148454"
      },
      "source": [
        "#Training and testing data\r\n",
        "X=df.drop('status',axis=1)\r\n",
        "y=df['status']\r\n",
        "X_train,X_test,y_train,y_test=train_test_split(X,y,test_size=0.3,random_state=1)\r\n",
        "#Apply the Naive Bayes theorem\r\n",
        "from sklearn.naive_bayes import GaussianNB\r\n",
        "model = GaussianNB()\r\n",
        "model.fit(X_train,y_train)\r\n"
      ],
      "execution_count": null,
      "outputs": [
        {
          "output_type": "execute_result",
          "data": {
            "text/plain": [
              "GaussianNB(priors=None, var_smoothing=1e-09)"
            ]
          },
          "metadata": {
            "tags": []
          },
          "execution_count": 22
        }
      ]
    },
    {
      "cell_type": "code",
      "metadata": {
        "colab": {
          "base_uri": "https://localhost:8080/",
          "height": 419
        },
        "id": "7d5EFGkWw33t",
        "outputId": "85825b4c-4bcc-4a4e-dce7-29e7e7a5be4a"
      },
      "source": [
        "#Compare the actual status and predicted status\r\n",
        "y_pred=model.predict(X_test)\r\n",
        "df1=pd.DataFrame({'Actual Status':y_test,'Predicted Status':y_pred})\r\n",
        "df1"
      ],
      "execution_count": null,
      "outputs": [
        {
          "output_type": "execute_result",
          "data": {
            "text/html": [
              "<div>\n",
              "<style scoped>\n",
              "    .dataframe tbody tr th:only-of-type {\n",
              "        vertical-align: middle;\n",
              "    }\n",
              "\n",
              "    .dataframe tbody tr th {\n",
              "        vertical-align: top;\n",
              "    }\n",
              "\n",
              "    .dataframe thead th {\n",
              "        text-align: right;\n",
              "    }\n",
              "</style>\n",
              "<table border=\"1\" class=\"dataframe\">\n",
              "  <thead>\n",
              "    <tr style=\"text-align: right;\">\n",
              "      <th></th>\n",
              "      <th>Actual Status</th>\n",
              "      <th>Predicted Status</th>\n",
              "    </tr>\n",
              "  </thead>\n",
              "  <tbody>\n",
              "    <tr>\n",
              "      <th>108</th>\n",
              "      <td>Placed</td>\n",
              "      <td>Placed</td>\n",
              "    </tr>\n",
              "    <tr>\n",
              "      <th>207</th>\n",
              "      <td>Placed</td>\n",
              "      <td>Placed</td>\n",
              "    </tr>\n",
              "    <tr>\n",
              "      <th>106</th>\n",
              "      <td>Not Placed</td>\n",
              "      <td>Not Placed</td>\n",
              "    </tr>\n",
              "    <tr>\n",
              "      <th>107</th>\n",
              "      <td>Placed</td>\n",
              "      <td>Placed</td>\n",
              "    </tr>\n",
              "    <tr>\n",
              "      <th>51</th>\n",
              "      <td>Not Placed</td>\n",
              "      <td>Not Placed</td>\n",
              "    </tr>\n",
              "    <tr>\n",
              "      <th>...</th>\n",
              "      <td>...</td>\n",
              "      <td>...</td>\n",
              "    </tr>\n",
              "    <tr>\n",
              "      <th>114</th>\n",
              "      <td>Placed</td>\n",
              "      <td>Placed</td>\n",
              "    </tr>\n",
              "    <tr>\n",
              "      <th>127</th>\n",
              "      <td>Placed</td>\n",
              "      <td>Placed</td>\n",
              "    </tr>\n",
              "    <tr>\n",
              "      <th>116</th>\n",
              "      <td>Placed</td>\n",
              "      <td>Placed</td>\n",
              "    </tr>\n",
              "    <tr>\n",
              "      <th>117</th>\n",
              "      <td>Placed</td>\n",
              "      <td>Placed</td>\n",
              "    </tr>\n",
              "    <tr>\n",
              "      <th>14</th>\n",
              "      <td>Not Placed</td>\n",
              "      <td>Not Placed</td>\n",
              "    </tr>\n",
              "  </tbody>\n",
              "</table>\n",
              "<p>65 rows × 2 columns</p>\n",
              "</div>"
            ],
            "text/plain": [
              "    Actual Status Predicted Status\n",
              "108        Placed           Placed\n",
              "207        Placed           Placed\n",
              "106    Not Placed       Not Placed\n",
              "107        Placed           Placed\n",
              "51     Not Placed       Not Placed\n",
              "..            ...              ...\n",
              "114        Placed           Placed\n",
              "127        Placed           Placed\n",
              "116        Placed           Placed\n",
              "117        Placed           Placed\n",
              "14     Not Placed       Not Placed\n",
              "\n",
              "[65 rows x 2 columns]"
            ]
          },
          "metadata": {
            "tags": []
          },
          "execution_count": 24
        }
      ]
    },
    {
      "cell_type": "code",
      "metadata": {
        "colab": {
          "base_uri": "https://localhost:8080/"
        },
        "id": "d5aTK67wxBYO",
        "outputId": "58bc1ac6-c744-4c05-f81a-fd5f972aab6a"
      },
      "source": [
        "#Classification Report:\r\n",
        "#A Classification report is used to measure the quality of predictions from a classification algorithm.\r\n",
        "print(classification_report(y_test, y_pred))\r\n"
      ],
      "execution_count": null,
      "outputs": [
        {
          "output_type": "stream",
          "text": [
            "              precision    recall  f1-score   support\n",
            "\n",
            "  Not Placed       0.75      0.90      0.82        20\n",
            "      Placed       0.95      0.87      0.91        45\n",
            "\n",
            "    accuracy                           0.88        65\n",
            "   macro avg       0.85      0.88      0.86        65\n",
            "weighted avg       0.89      0.88      0.88        65\n",
            "\n"
          ],
          "name": "stdout"
        }
      ]
    },
    {
      "cell_type": "code",
      "metadata": {
        "colab": {
          "base_uri": "https://localhost:8080/"
        },
        "id": "z_V6fFnPxMBh",
        "outputId": "75c9a31b-e6db-45e2-e8e2-dbe39e07d12d"
      },
      "source": [
        "#Confusion Matrix:\r\n",
        "#A confusion matrix is a summary of prediction results on a classification problem. The number of correct and incorrect predictions are summarized with count values and broken down by each class.\r\n",
        "print(confusion_matrix(y_test,y_pred))\r\n"
      ],
      "execution_count": null,
      "outputs": [
        {
          "output_type": "stream",
          "text": [
            "[[18  2]\n",
            " [ 6 39]]\n"
          ],
          "name": "stdout"
        }
      ]
    },
    {
      "cell_type": "code",
      "metadata": {
        "colab": {
          "base_uri": "https://localhost:8080/"
        },
        "id": "LHQf9mYExPIX",
        "outputId": "5421dfe5-b89a-4cf8-eca3-3e3a9c41bd2d"
      },
      "source": [
        "#Accuracy Score:\r\n",
        "print(accuracy_score(y_test,y_pred)*100)"
      ],
      "execution_count": null,
      "outputs": [
        {
          "output_type": "stream",
          "text": [
            "87.6923076923077\n"
          ],
          "name": "stdout"
        }
      ]
    }
  ]
}