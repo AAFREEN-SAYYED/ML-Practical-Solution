{
  "nbformat": 4,
  "nbformat_minor": 0,
  "metadata": {
    "colab": {
      "name": "ML_5_Practical.ipynb",
      "provenance": [],
      "collapsed_sections": [],
      "toc_visible": true,
      "authorship_tag": "ABX9TyMLkDBSYe2KETh6rUu8QRUm",
      "include_colab_link": true
    },
    "kernelspec": {
      "name": "python3",
      "display_name": "Python 3"
    }
  },
  "cells": [
    {
      "cell_type": "markdown",
      "metadata": {
        "id": "view-in-github",
        "colab_type": "text"
      },
      "source": [
        "<a href=\"https://colab.research.google.com/github/AAFREEN-SAYYED/ML-Practical-Solution/blob/gh-pages/ML_5_Practical.ipynb\" target=\"_parent\"><img src=\"https://colab.research.google.com/assets/colab-badge.svg\" alt=\"Open In Colab\"/></a>"
      ]
    },
    {
      "cell_type": "markdown",
      "metadata": {
        "id": "nfQWCYLkj-G8"
      },
      "source": [
        "# **Multiple Regression**\r\n",
        "\r\n",
        "Multiple regression is like linear regression, but with more than one independent value, meaning that we try to predict a value based on two or more variables.\r\n",
        "\r\n"
      ]
    },
    {
      "cell_type": "code",
      "metadata": {
        "id": "QK12w48JTZMe",
        "colab": {
          "base_uri": "https://localhost:8080/"
        },
        "outputId": "c178f7c6-866e-45f0-c504-743030fd8602"
      },
      "source": [
        "#The Pandas module allows us to read csv files and return a DataFrame object.\r\n",
        "import pandas\r\n",
        "import matplotlib.pyplot as plt\r\n",
        "\r\n",
        "df = pandas.read_csv(\"cars.csv\")\r\n",
        "\r\n",
        "'''\r\n",
        "Then make a list of the independent values and call this variable X.\r\n",
        "Put the dependent values in a variable called y.\r\n",
        "'''\r\n",
        "X = df[['Weight', 'Volume']]\r\n",
        "y = df['CO2']\r\n",
        "\r\n",
        "'''\r\n",
        "From the sklearn module we will use the LinearRegression() method to create a linear regression object.\r\n",
        "\r\n",
        "This object has a method called fit() that takes the independent and dependent values as parameters\r\n",
        "and fills the regression object with data that describes the relationship:\r\n",
        "'''\r\n",
        "from sklearn import linear_model\r\n",
        "\r\n",
        "regr = linear_model.LinearRegression()\r\n",
        "regr.fit(X, y)\r\n",
        "\r\n",
        "#Now we have a regression object that are ready to predict CO2 values based on a car's weight and volume:\r\n",
        "\r\n",
        "predictedCO2 = regr.predict([[2300, 1300]])\r\n",
        "print(predictedCO2)\r\n",
        "#We have predicted that a car with 1.3 liter engine, and a weight of 2300 kg, will release approximately 107 grams of CO2 for every kilometer it drives.\r\n"
      ],
      "execution_count": null,
      "outputs": [
        {
          "output_type": "stream",
          "text": [
            "[107.2087328]\n"
          ],
          "name": "stdout"
        }
      ]
    },
    {
      "cell_type": "markdown",
      "metadata": {
        "id": "9fwORRnapdO2"
      },
      "source": [
        "**Coefficient**\r\n",
        "\r\n",
        "The coefficient is a factor that describes the relationship with an unknown variable.\r\n",
        "\r\n",
        "\r\n",
        "Example: if x is a variable, then 2x is x two times. x is the unknown variable, and the number 2 is the coefficient.\r\n",
        "\r\n",
        "\r\n",
        "In this case, we can ask for the coefficient value of weight against CO2, and for volume against CO2. The answer(s) we get tells us what would happen if we increase, or decrease, one of the independent values.\r\n",
        "\r\n"
      ]
    },
    {
      "cell_type": "code",
      "metadata": {
        "colab": {
          "base_uri": "https://localhost:8080/"
        },
        "id": "wKqgfF2zpU30",
        "outputId": "b53e4663-b4ef-43b5-f8c4-f5e690c0943b"
      },
      "source": [
        "print(regr.coef_)"
      ],
      "execution_count": null,
      "outputs": [
        {
          "output_type": "stream",
          "text": [
            "[0.00755095 0.00780526]\n"
          ],
          "name": "stdout"
        }
      ]
    },
    {
      "cell_type": "markdown",
      "metadata": {
        "id": "CdjiiCWWpqL4"
      },
      "source": [
        "**Result Explained**\r\n",
        "\r\n",
        "The result array represents the coefficient values of weight and volume.\r\n",
        "\r\n",
        "Weight: 0.00755095\r\n",
        "Volume: 0.00780526\r\n",
        "\r\n",
        "These values tell us that if the weight increase by 1kg, the CO2 emission increases by 0.00755095g.\r\n",
        "\r\n",
        "And if the engine size (Volume) increases by 1 cm3, the CO2 emission increases by 0.00780526 g.\r\n",
        "\r\n",
        "I think that is a fair guess, but let test it!\r\n",
        "\r\n",
        "We have already predicted that if a car with a 1300cm3 engine weighs 2300kg, the CO2 emission will be approximately 107g.\r\n",
        "\r\n",
        "What if we increase the weight with 1000kg?\r\n",
        "\r\n"
      ]
    },
    {
      "cell_type": "code",
      "metadata": {
        "colab": {
          "base_uri": "https://localhost:8080/"
        },
        "id": "Lmc7IMA7oM1N",
        "outputId": "67cbe447-c3b0-47cb-9292-527b56d8d508"
      },
      "source": [
        "#change the weight from 2300 to 3300:\r\n",
        "predictedCO2 = regr.predict([[3300, 1300]])\r\n",
        "\r\n",
        "print(predictedCO2)"
      ],
      "execution_count": null,
      "outputs": [
        {
          "output_type": "stream",
          "text": [
            "[114.75968007]\n"
          ],
          "name": "stdout"
        }
      ]
    },
    {
      "cell_type": "markdown",
      "metadata": {
        "id": "IUTc_J63p7Fs"
      },
      "source": [
        "We have predicted that a car with 1.3 liter engine, and a weight of 3300 kg, will release approximately 115 grams of CO2 for every kilometer it drives.\r\n",
        "\r\n",
        "Which shows that the coefficient of 0.00755095 is correct:\r\n",
        "\r\n",
        "107.2087328 + (1000 * 0.00755095) = 114.75968\r\n",
        "\r\n"
      ]
    }
  ]
}