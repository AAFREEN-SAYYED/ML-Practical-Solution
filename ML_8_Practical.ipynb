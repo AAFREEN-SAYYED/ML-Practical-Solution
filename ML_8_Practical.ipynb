{
  "nbformat": 4,
  "nbformat_minor": 0,
  "metadata": {
    "colab": {
      "name": "ML_8_Practical.ipynb",
      "provenance": [],
      "collapsed_sections": [],
      "toc_visible": true,
      "authorship_tag": "ABX9TyMV8fvaAl1PTsgvM9tt2Vou",
      "include_colab_link": true
    },
    "kernelspec": {
      "name": "python3",
      "display_name": "Python 3"
    }
  },
  "cells": [
    {
      "cell_type": "markdown",
      "metadata": {
        "id": "view-in-github",
        "colab_type": "text"
      },
      "source": [
        "<a href=\"https://colab.research.google.com/github/AAFREEN-SAYYED/ML-Practical-Solution/blob/gh-pages/ML_8_Practical.ipynb\" target=\"_parent\"><img src=\"https://colab.research.google.com/assets/colab-badge.svg\" alt=\"Open In Colab\"/></a>"
      ]
    },
    {
      "cell_type": "markdown",
      "metadata": {
        "id": "uL725nrIgtxi"
      },
      "source": [
        "# Implementing Decision Tree "
      ]
    },
    {
      "cell_type": "code",
      "metadata": {
        "id": "8uE_sOdpgpjg"
      },
      "source": [
        "#numpy and pandas initialization\r\n",
        "import numpy as np\r\n",
        "import pandas as pd"
      ],
      "execution_count": 1,
      "outputs": []
    },
    {
      "cell_type": "code",
      "metadata": {
        "id": "sP42I6ndhIsG",
        "colab": {
          "base_uri": "https://localhost:8080/",
          "height": 483
        },
        "outputId": "09a841cf-00d5-42f2-ae4c-ac2a3087b5f1"
      },
      "source": [
        "  #Loading the PlayTennis data\r\n",
        "PlayTennis = pd.read_csv(\"PlayTennis.csv\")\r\n",
        "PlayTennis"
      ],
      "execution_count": 2,
      "outputs": [
        {
          "output_type": "execute_result",
          "data": {
            "text/html": [
              "<div>\n",
              "<style scoped>\n",
              "    .dataframe tbody tr th:only-of-type {\n",
              "        vertical-align: middle;\n",
              "    }\n",
              "\n",
              "    .dataframe tbody tr th {\n",
              "        vertical-align: top;\n",
              "    }\n",
              "\n",
              "    .dataframe thead th {\n",
              "        text-align: right;\n",
              "    }\n",
              "</style>\n",
              "<table border=\"1\" class=\"dataframe\">\n",
              "  <thead>\n",
              "    <tr style=\"text-align: right;\">\n",
              "      <th></th>\n",
              "      <th>Outlook</th>\n",
              "      <th>Temperature</th>\n",
              "      <th>Humidity</th>\n",
              "      <th>Wind</th>\n",
              "      <th>Play Tennis</th>\n",
              "    </tr>\n",
              "  </thead>\n",
              "  <tbody>\n",
              "    <tr>\n",
              "      <th>0</th>\n",
              "      <td>Sunny</td>\n",
              "      <td>Hot</td>\n",
              "      <td>High</td>\n",
              "      <td>Weak</td>\n",
              "      <td>No</td>\n",
              "    </tr>\n",
              "    <tr>\n",
              "      <th>1</th>\n",
              "      <td>Sunny</td>\n",
              "      <td>Hot</td>\n",
              "      <td>High</td>\n",
              "      <td>Strong</td>\n",
              "      <td>No</td>\n",
              "    </tr>\n",
              "    <tr>\n",
              "      <th>2</th>\n",
              "      <td>Overcast</td>\n",
              "      <td>Hot</td>\n",
              "      <td>High</td>\n",
              "      <td>Weak</td>\n",
              "      <td>Yes</td>\n",
              "    </tr>\n",
              "    <tr>\n",
              "      <th>3</th>\n",
              "      <td>Rain</td>\n",
              "      <td>Mild</td>\n",
              "      <td>High</td>\n",
              "      <td>Weak</td>\n",
              "      <td>Yes</td>\n",
              "    </tr>\n",
              "    <tr>\n",
              "      <th>4</th>\n",
              "      <td>Rain</td>\n",
              "      <td>Cool</td>\n",
              "      <td>Normal</td>\n",
              "      <td>Weak</td>\n",
              "      <td>Yes</td>\n",
              "    </tr>\n",
              "    <tr>\n",
              "      <th>5</th>\n",
              "      <td>Rain</td>\n",
              "      <td>Cool</td>\n",
              "      <td>Normal</td>\n",
              "      <td>Strong</td>\n",
              "      <td>No</td>\n",
              "    </tr>\n",
              "    <tr>\n",
              "      <th>6</th>\n",
              "      <td>Overcast</td>\n",
              "      <td>Cool</td>\n",
              "      <td>Normal</td>\n",
              "      <td>Strong</td>\n",
              "      <td>Yes</td>\n",
              "    </tr>\n",
              "    <tr>\n",
              "      <th>7</th>\n",
              "      <td>Sunny</td>\n",
              "      <td>Mild</td>\n",
              "      <td>High</td>\n",
              "      <td>Weak</td>\n",
              "      <td>No</td>\n",
              "    </tr>\n",
              "    <tr>\n",
              "      <th>8</th>\n",
              "      <td>Sunny</td>\n",
              "      <td>Cool</td>\n",
              "      <td>Normal</td>\n",
              "      <td>Weak</td>\n",
              "      <td>Yes</td>\n",
              "    </tr>\n",
              "    <tr>\n",
              "      <th>9</th>\n",
              "      <td>Rain</td>\n",
              "      <td>Mild</td>\n",
              "      <td>Normal</td>\n",
              "      <td>Weak</td>\n",
              "      <td>Yes</td>\n",
              "    </tr>\n",
              "    <tr>\n",
              "      <th>10</th>\n",
              "      <td>Sunny</td>\n",
              "      <td>Mild</td>\n",
              "      <td>Normal</td>\n",
              "      <td>Strong</td>\n",
              "      <td>Yes</td>\n",
              "    </tr>\n",
              "    <tr>\n",
              "      <th>11</th>\n",
              "      <td>Overcast</td>\n",
              "      <td>Mild</td>\n",
              "      <td>High</td>\n",
              "      <td>Strong</td>\n",
              "      <td>Yes</td>\n",
              "    </tr>\n",
              "    <tr>\n",
              "      <th>12</th>\n",
              "      <td>Overcast</td>\n",
              "      <td>Hot</td>\n",
              "      <td>Normal</td>\n",
              "      <td>Weak</td>\n",
              "      <td>Yes</td>\n",
              "    </tr>\n",
              "    <tr>\n",
              "      <th>13</th>\n",
              "      <td>Rain</td>\n",
              "      <td>Mild</td>\n",
              "      <td>High</td>\n",
              "      <td>Strong</td>\n",
              "      <td>No</td>\n",
              "    </tr>\n",
              "  </tbody>\n",
              "</table>\n",
              "</div>"
            ],
            "text/plain": [
              "     Outlook Temperature Humidity    Wind Play Tennis\n",
              "0      Sunny         Hot     High    Weak          No\n",
              "1      Sunny         Hot     High  Strong          No\n",
              "2   Overcast         Hot     High    Weak         Yes\n",
              "3       Rain        Mild     High    Weak         Yes\n",
              "4       Rain        Cool   Normal    Weak         Yes\n",
              "5       Rain        Cool   Normal  Strong          No\n",
              "6   Overcast        Cool   Normal  Strong         Yes\n",
              "7      Sunny        Mild     High    Weak          No\n",
              "8      Sunny        Cool   Normal    Weak         Yes\n",
              "9       Rain        Mild   Normal    Weak         Yes\n",
              "10     Sunny        Mild   Normal  Strong         Yes\n",
              "11  Overcast        Mild     High  Strong         Yes\n",
              "12  Overcast         Hot   Normal    Weak         Yes\n",
              "13      Rain        Mild     High  Strong          No"
            ]
          },
          "metadata": {
            "tags": []
          },
          "execution_count": 2
        }
      ]
    },
    {
      "cell_type": "markdown",
      "metadata": {
        "id": "7O2HPB5KiFyB"
      },
      "source": [
        "It is easy to implement Decision Tree with numerical values. We can convert all the non numerical values into numerical values using LabelEncoder\r\n",
        "\r\n"
      ]
    },
    {
      "cell_type": "code",
      "metadata": {
        "id": "ZFA3rAzMkC_q"
      },
      "source": [
        "from sklearn.preprocessing import LabelEncoder\r\n",
        "Le = LabelEncoder()\r\n",
        "\r\n",
        "PlayTennis['outlook'] = Le.fit_transform(PlayTennis['outlook'])\r\n",
        "PlayTennis['temp'] = Le.fit_transform(PlayTennis['temp'])\r\n",
        "PlayTennis['humidity'] = Le.fit_transform(PlayTennis['humidity'])\r\n",
        "PlayTennis['windy'] = Le.fit_transform(PlayTennis['windy'])\r\n",
        "PlayTennis['play'] = Le.fit_transform(PlayTennis['play'])\r\n",
        "PlayTennis\r\n"
      ],
      "execution_count": null,
      "outputs": []
    },
    {
      "cell_type": "code",
      "metadata": {
        "id": "qReIZVezlKHe"
      },
      "source": [
        "#Lets split the training data and its coresponding prediction values.\r\n",
        "#y - holds all the decisions.\r\n",
        "#X - holds the training data.\r\n",
        "y = PlayTennis['play']\r\n",
        "X = PlayTennis.drop(['play'],axis=1)\r\n"
      ],
      "execution_count": null,
      "outputs": []
    },
    {
      "cell_type": "code",
      "metadata": {
        "id": "iHaLtq_2lPa8"
      },
      "source": [
        "# Fitting the model\r\n",
        "from sklearn import tree\r\n",
        "clf = tree.DecisionTreeClassifier(criterion = 'entropy')\r\n",
        "clf = clf.fit(X, y)\r\n",
        "# We can visualize the tree using tree.plot_tree\r\n",
        "tree.plot_tree(clf)"
      ],
      "execution_count": null,
      "outputs": []
    }
  ]
}